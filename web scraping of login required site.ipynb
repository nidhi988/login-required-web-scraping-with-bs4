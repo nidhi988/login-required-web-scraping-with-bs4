{
 "cells": [
  {
   "cell_type": "code",
   "execution_count": 14,
   "metadata": {},
   "outputs": [
    {
     "name": "stdout",
     "output_type": "stream",
     "text": [
      "200\n",
      "<title>IMS Proschool: Log in to the site</title>\n"
     ]
    }
   ],
   "source": [
    "import requests\n",
    "from bs4 import BeautifulSoup\n",
    "\n",
    "login_url = 'https://learn.proschoolonline.com/login/index.php'\n",
    "data = {\n",
    "    'username': 'nidhifab77@gmail.com',\n",
    "    'password': 'nidhilohani@927'\n",
    "}\n",
    "\n",
    "s = requests.Session()\n",
    "response = s.post(login_url , data)\n",
    "print(response.status_code)\n",
    "index_page= s.get('https://learn.proschoolonline.com/login/index.php')\n",
    "soup = BeautifulSoup(index_page.text, 'html.parser')\n",
    "print(soup.title)"
   ]
  },
  {
   "cell_type": "code",
   "execution_count": null,
   "metadata": {},
   "outputs": [],
   "source": []
  }
 ],
 "metadata": {
  "kernelspec": {
   "display_name": "Python 3",
   "language": "python",
   "name": "python3"
  },
  "language_info": {
   "codemirror_mode": {
    "name": "ipython",
    "version": 3
   },
   "file_extension": ".py",
   "mimetype": "text/x-python",
   "name": "python",
   "nbconvert_exporter": "python",
   "pygments_lexer": "ipython3",
   "version": "3.8.1"
  }
 },
 "nbformat": 4,
 "nbformat_minor": 2
}
